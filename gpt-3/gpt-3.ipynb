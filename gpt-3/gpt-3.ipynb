{
 "cells": [
  {
   "cell_type": "markdown",
   "source": [
    "# Utility notebook for calling GPT-3"
   ],
   "metadata": {
    "collapsed": false
   }
  },
  {
   "cell_type": "code",
   "execution_count": 1,
   "outputs": [],
   "source": [
    "import openai\n",
    "from datasets import load_dataset, load_metric\n",
    "import csv\n",
    "import time"
   ],
   "metadata": {
    "collapsed": false
   }
  },
  {
   "cell_type": "code",
   "execution_count": 2,
   "outputs": [
    {
     "name": "stderr",
     "output_type": "stream",
     "text": [
      "Found cached dataset common_gen (C:/Users/Jingqian/.cache/huggingface/datasets/common_gen/default/2020.5.30/1a9e8bdc026c41ce7a9e96260debf7d2809cb7fd63fa02b017e4fac1b00c6b23)\n"
     ]
    },
    {
     "data": {
      "text/plain": "  0%|          | 0/3 [00:00<?, ?it/s]",
      "application/vnd.jupyter.widget-view+json": {
       "version_major": 2,
       "version_minor": 0,
       "model_id": "277a1848a6314d0d86aa440767dd168a"
      }
     },
     "metadata": {},
     "output_type": "display_data"
    },
    {
     "name": "stdout",
     "output_type": "stream",
     "text": [
      "1497\n"
     ]
    }
   ],
   "source": [
    "datasets = load_dataset(\"common_gen\")\n",
    "print(len(datasets[\"test\"]))"
   ],
   "metadata": {
    "collapsed": false
   }
  },
  {
   "cell_type": "code",
   "execution_count": 3,
   "outputs": [
    {
     "data": {
      "text/plain": "{'concept_set_idx': 171,\n 'concepts': ['sandwich', 'worker', 'eat', 'break'],\n 'target': ''}"
     },
     "execution_count": 3,
     "metadata": {},
     "output_type": "execute_result"
    }
   ],
   "source": [
    "datasets[\"test\"][171]"
   ],
   "metadata": {
    "collapsed": false
   }
  },
  {
   "cell_type": "code",
   "execution_count": 6,
   "outputs": [
    {
     "name": "stdout",
     "output_type": "stream",
     "text": [
      "Finished 201 sample in 1497 samples!\n",
      "Finished 211 sample in 1497 samples!\n",
      "Finished 221 sample in 1497 samples!\n",
      "Finished 231 sample in 1497 samples!\n",
      "Finished 241 sample in 1497 samples!\n",
      "Finished 251 sample in 1497 samples!\n",
      "Finished 261 sample in 1497 samples!\n",
      "Finished 271 sample in 1497 samples!\n",
      "Finished 281 sample in 1497 samples!\n",
      "Finished 291 sample in 1497 samples!\n",
      "Finished 301 sample in 1497 samples!\n",
      "Finished 311 sample in 1497 samples!\n",
      "Finished 321 sample in 1497 samples!\n",
      "Finished 331 sample in 1497 samples!\n",
      "Finished 341 sample in 1497 samples!\n",
      "Finished 351 sample in 1497 samples!\n",
      "Finished 361 sample in 1497 samples!\n",
      "Finished 371 sample in 1497 samples!\n",
      "Finished 381 sample in 1497 samples!\n",
      "Finished 391 sample in 1497 samples!\n",
      "Finished 401 sample in 1497 samples!\n",
      "Finished 411 sample in 1497 samples!\n",
      "Finished 421 sample in 1497 samples!\n",
      "Finished 431 sample in 1497 samples!\n",
      "Finished 441 sample in 1497 samples!\n",
      "Finished 451 sample in 1497 samples!\n",
      "Finished 461 sample in 1497 samples!\n",
      "Finished 471 sample in 1497 samples!\n",
      "Finished 481 sample in 1497 samples!\n",
      "Finished 491 sample in 1497 samples!\n",
      "Finished 501 sample in 1497 samples!\n",
      "Finished 511 sample in 1497 samples!\n",
      "Finished 521 sample in 1497 samples!\n",
      "Finished 531 sample in 1497 samples!\n",
      "Finished 541 sample in 1497 samples!\n",
      "Finished 551 sample in 1497 samples!\n",
      "Finished 561 sample in 1497 samples!\n",
      "Finished 571 sample in 1497 samples!\n",
      "Finished 581 sample in 1497 samples!\n",
      "Finished 591 sample in 1497 samples!\n",
      "Finished 601 sample in 1497 samples!\n",
      "Finished 611 sample in 1497 samples!\n",
      "Finished 621 sample in 1497 samples!\n",
      "Finished 631 sample in 1497 samples!\n",
      "Finished 641 sample in 1497 samples!\n",
      "Finished 651 sample in 1497 samples!\n",
      "Finished 661 sample in 1497 samples!\n",
      "Finished 671 sample in 1497 samples!\n",
      "Finished 681 sample in 1497 samples!\n",
      "Finished 691 sample in 1497 samples!\n",
      "Finished 701 sample in 1497 samples!\n",
      "Finished 711 sample in 1497 samples!\n",
      "Finished 721 sample in 1497 samples!\n",
      "Finished 731 sample in 1497 samples!\n",
      "Finished 741 sample in 1497 samples!\n",
      "Finished 751 sample in 1497 samples!\n",
      "Finished 761 sample in 1497 samples!\n",
      "Finished 771 sample in 1497 samples!\n",
      "Finished 781 sample in 1497 samples!\n",
      "Finished 791 sample in 1497 samples!\n",
      "Finished 801 sample in 1497 samples!\n",
      "Finished 811 sample in 1497 samples!\n",
      "Finished 821 sample in 1497 samples!\n",
      "Finished 831 sample in 1497 samples!\n",
      "Finished 841 sample in 1497 samples!\n",
      "Finished 851 sample in 1497 samples!\n",
      "Finished 861 sample in 1497 samples!\n",
      "Finished 871 sample in 1497 samples!\n",
      "Finished 881 sample in 1497 samples!\n",
      "Finished 891 sample in 1497 samples!\n",
      "Finished 901 sample in 1497 samples!\n",
      "Finished 911 sample in 1497 samples!\n",
      "Finished 921 sample in 1497 samples!\n",
      "Finished 931 sample in 1497 samples!\n",
      "Finished 941 sample in 1497 samples!\n",
      "Finished 951 sample in 1497 samples!\n",
      "Finished 961 sample in 1497 samples!\n",
      "Finished 971 sample in 1497 samples!\n",
      "Finished 981 sample in 1497 samples!\n",
      "Finished 991 sample in 1497 samples!\n",
      "Finished 1001 sample in 1497 samples!\n",
      "Finished 1011 sample in 1497 samples!\n",
      "Finished 1021 sample in 1497 samples!\n",
      "Finished 1031 sample in 1497 samples!\n",
      "Finished 1041 sample in 1497 samples!\n",
      "Finished 1051 sample in 1497 samples!\n",
      "Finished 1061 sample in 1497 samples!\n",
      "Finished 1071 sample in 1497 samples!\n",
      "Finished 1081 sample in 1497 samples!\n",
      "Finished 1091 sample in 1497 samples!\n",
      "Finished 1101 sample in 1497 samples!\n",
      "Finished 1111 sample in 1497 samples!\n",
      "Finished 1121 sample in 1497 samples!\n",
      "Finished 1131 sample in 1497 samples!\n",
      "Finished 1141 sample in 1497 samples!\n",
      "Finished 1151 sample in 1497 samples!\n",
      "Finished 1161 sample in 1497 samples!\n",
      "Finished 1171 sample in 1497 samples!\n",
      "Finished 1181 sample in 1497 samples!\n",
      "Finished 1191 sample in 1497 samples!\n",
      "Finished 1201 sample in 1497 samples!\n",
      "Finished 1211 sample in 1497 samples!\n",
      "Finished 1221 sample in 1497 samples!\n",
      "Finished 1231 sample in 1497 samples!\n",
      "Finished 1241 sample in 1497 samples!\n",
      "Finished 1251 sample in 1497 samples!\n",
      "Finished 1261 sample in 1497 samples!\n",
      "Finished 1271 sample in 1497 samples!\n",
      "Finished 1281 sample in 1497 samples!\n",
      "Finished 1291 sample in 1497 samples!\n",
      "Finished 1301 sample in 1497 samples!\n",
      "Finished 1311 sample in 1497 samples!\n",
      "Finished 1321 sample in 1497 samples!\n",
      "Finished 1331 sample in 1497 samples!\n",
      "Finished 1341 sample in 1497 samples!\n",
      "Finished 1351 sample in 1497 samples!\n",
      "Finished 1361 sample in 1497 samples!\n",
      "Finished 1371 sample in 1497 samples!\n",
      "Finished 1381 sample in 1497 samples!\n",
      "Finished 1391 sample in 1497 samples!\n",
      "Finished 1401 sample in 1497 samples!\n",
      "Finished 1411 sample in 1497 samples!\n",
      "Finished 1421 sample in 1497 samples!\n",
      "Finished 1431 sample in 1497 samples!\n",
      "Finished 1441 sample in 1497 samples!\n",
      "Finished 1451 sample in 1497 samples!\n",
      "Finished 1461 sample in 1497 samples!\n",
      "Finished 1471 sample in 1497 samples!\n",
      "Finished 1481 sample in 1497 samples!\n",
      "Finished 1491 sample in 1497 samples!\n"
     ]
    }
   ],
   "source": [
    "begin_index = 200\n",
    "end_index = 1497\n",
    "api_keys = [\n",
    "    \"\",\n",
    "]\n",
    "col_names = [\"id\", \"concepts\", \"sentence\"]\n",
    "augmented_data = []\n",
    "target_data_set = datasets[\"test\"]\n",
    "for i in range(begin_index, end_index):\n",
    "    if i % 10 == 0:\n",
    "        print(f\"Finished {i + 1} sample in {end_index} samples!\")\n",
    "    openai.api_key = api_keys[i % len(api_keys)]\n",
    "    id = target_data_set['concept_set_idx'][i]\n",
    "    concepts = \", \".join(target_data_set[\"concepts\"][i])\n",
    "    completion = openai.ChatCompletion.create(\n",
    "        model=\"gpt-3.5-turbo\",\n",
    "        messages=[\n",
    "            {\"role\": \"system\", \"content\": \"You are a helpful assistant who can create sentences using sets of words.\"},\n",
    "            {\"role\": \"user\", \"content\": \"Create a sentence using the following words: \" + concepts},\n",
    "        ]\n",
    "    )\n",
    "    sentence = completion[\"choices\"][0][\"message\"][\"content\"].replace(\"\\n\", \"\")\n",
    "    augmented_data.append({\"id\": id, \"concepts\": concepts, \"sentence\": sentence})\n",
    "csv_file = f\"commongen-test-generations-chatgpt-{begin_index}-{end_index}.csv\"\n",
    "try:\n",
    "    with open(csv_file, 'w') as csvfile:\n",
    "        writer = csv.DictWriter(csvfile, fieldnames=col_names)\n",
    "        writer.writeheader()\n",
    "        for data in augmented_data:\n",
    "            writer.writerow(data)\n",
    "except IOError:\n",
    "    print(\"I/O error\")"
   ],
   "metadata": {
    "collapsed": false
   }
  },
  {
   "cell_type": "code",
   "execution_count": null,
   "outputs": [],
   "source": [],
   "metadata": {
    "collapsed": false
   }
  }
 ],
 "metadata": {
  "kernelspec": {
   "display_name": "Python 3",
   "language": "python",
   "name": "python3"
  },
  "language_info": {
   "codemirror_mode": {
    "name": "ipython",
    "version": 2
   },
   "file_extension": ".py",
   "mimetype": "text/x-python",
   "name": "python",
   "nbconvert_exporter": "python",
   "pygments_lexer": "ipython2",
   "version": "2.7.6"
  }
 },
 "nbformat": 4,
 "nbformat_minor": 0
}
